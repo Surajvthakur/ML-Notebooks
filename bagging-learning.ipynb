{
 "cells": [
  {
   "cell_type": "code",
   "execution_count": 1,
   "id": "f8d4ac4d",
   "metadata": {
    "_cell_guid": "b1076dfc-b9ad-4769-8c92-a6c4dae69d19",
    "_uuid": "8f2839f25d086af736a60e9eeb907d3b93b6e0e5",
    "execution": {
     "iopub.execute_input": "2024-12-14T05:32:31.521808Z",
     "iopub.status.busy": "2024-12-14T05:32:31.521378Z",
     "iopub.status.idle": "2024-12-14T05:32:32.437552Z",
     "shell.execute_reply": "2024-12-14T05:32:32.436291Z"
    },
    "papermill": {
     "duration": 0.928164,
     "end_time": "2024-12-14T05:32:32.440079",
     "exception": false,
     "start_time": "2024-12-14T05:32:31.511915",
     "status": "completed"
    },
    "tags": []
   },
   "outputs": [
    {
     "name": "stdout",
     "output_type": "stream",
     "text": [
      "/kaggle/input/iris/Iris.csv\n",
      "/kaggle/input/iris/database.sqlite\n"
     ]
    }
   ],
   "source": [
    "# This Python 3 environment comes with many helpful analytics libraries installed\n",
    "# It is defined by the kaggle/python Docker image: https://github.com/kaggle/docker-python\n",
    "# For example, here's several helpful packages to load\n",
    "\n",
    "import numpy as np # linear algebra\n",
    "import pandas as pd # data processing, CSV file I/O (e.g. pd.read_csv)\n",
    "\n",
    "# Input data files are available in the read-only \"../input/\" directory\n",
    "# For example, running this (by clicking run or pressing Shift+Enter) will list all files under the input directory\n",
    "\n",
    "import os\n",
    "for dirname, _, filenames in os.walk('/kaggle/input'):\n",
    "    for filename in filenames:\n",
    "        print(os.path.join(dirname, filename))\n",
    "\n",
    "# You can write up to 20GB to the current directory (/kaggle/working/) that gets preserved as output when you create a version using \"Save & Run All\" \n",
    "# You can also write temporary files to /kaggle/temp/, but they won't be saved outside of the current session"
   ]
  },
  {
   "cell_type": "code",
   "execution_count": 2,
   "id": "9aa9830a",
   "metadata": {
    "execution": {
     "iopub.execute_input": "2024-12-14T05:32:32.457215Z",
     "iopub.status.busy": "2024-12-14T05:32:32.456717Z",
     "iopub.status.idle": "2024-12-14T05:32:32.476012Z",
     "shell.execute_reply": "2024-12-14T05:32:32.474935Z"
    },
    "papermill": {
     "duration": 0.030456,
     "end_time": "2024-12-14T05:32:32.478562",
     "exception": false,
     "start_time": "2024-12-14T05:32:32.448106",
     "status": "completed"
    },
    "tags": []
   },
   "outputs": [],
   "source": [
    "df = pd.read_csv(\"/kaggle/input/iris/Iris.csv\")"
   ]
  },
  {
   "cell_type": "code",
   "execution_count": 3,
   "id": "9df4c9ee",
   "metadata": {
    "execution": {
     "iopub.execute_input": "2024-12-14T05:32:32.496419Z",
     "iopub.status.busy": "2024-12-14T05:32:32.495991Z",
     "iopub.status.idle": "2024-12-14T05:32:32.522787Z",
     "shell.execute_reply": "2024-12-14T05:32:32.521521Z"
    },
    "papermill": {
     "duration": 0.037573,
     "end_time": "2024-12-14T05:32:32.525167",
     "exception": false,
     "start_time": "2024-12-14T05:32:32.487594",
     "status": "completed"
    },
    "tags": []
   },
   "outputs": [
    {
     "data": {
      "text/html": [
       "<div>\n",
       "<style scoped>\n",
       "    .dataframe tbody tr th:only-of-type {\n",
       "        vertical-align: middle;\n",
       "    }\n",
       "\n",
       "    .dataframe tbody tr th {\n",
       "        vertical-align: top;\n",
       "    }\n",
       "\n",
       "    .dataframe thead th {\n",
       "        text-align: right;\n",
       "    }\n",
       "</style>\n",
       "<table border=\"1\" class=\"dataframe\">\n",
       "  <thead>\n",
       "    <tr style=\"text-align: right;\">\n",
       "      <th></th>\n",
       "      <th>Id</th>\n",
       "      <th>SepalLengthCm</th>\n",
       "      <th>SepalWidthCm</th>\n",
       "      <th>PetalLengthCm</th>\n",
       "      <th>PetalWidthCm</th>\n",
       "      <th>Species</th>\n",
       "    </tr>\n",
       "  </thead>\n",
       "  <tbody>\n",
       "    <tr>\n",
       "      <th>0</th>\n",
       "      <td>1</td>\n",
       "      <td>5.1</td>\n",
       "      <td>3.5</td>\n",
       "      <td>1.4</td>\n",
       "      <td>0.2</td>\n",
       "      <td>Iris-setosa</td>\n",
       "    </tr>\n",
       "    <tr>\n",
       "      <th>1</th>\n",
       "      <td>2</td>\n",
       "      <td>4.9</td>\n",
       "      <td>3.0</td>\n",
       "      <td>1.4</td>\n",
       "      <td>0.2</td>\n",
       "      <td>Iris-setosa</td>\n",
       "    </tr>\n",
       "    <tr>\n",
       "      <th>2</th>\n",
       "      <td>3</td>\n",
       "      <td>4.7</td>\n",
       "      <td>3.2</td>\n",
       "      <td>1.3</td>\n",
       "      <td>0.2</td>\n",
       "      <td>Iris-setosa</td>\n",
       "    </tr>\n",
       "    <tr>\n",
       "      <th>3</th>\n",
       "      <td>4</td>\n",
       "      <td>4.6</td>\n",
       "      <td>3.1</td>\n",
       "      <td>1.5</td>\n",
       "      <td>0.2</td>\n",
       "      <td>Iris-setosa</td>\n",
       "    </tr>\n",
       "    <tr>\n",
       "      <th>4</th>\n",
       "      <td>5</td>\n",
       "      <td>5.0</td>\n",
       "      <td>3.6</td>\n",
       "      <td>1.4</td>\n",
       "      <td>0.2</td>\n",
       "      <td>Iris-setosa</td>\n",
       "    </tr>\n",
       "  </tbody>\n",
       "</table>\n",
       "</div>"
      ],
      "text/plain": [
       "   Id  SepalLengthCm  SepalWidthCm  PetalLengthCm  PetalWidthCm      Species\n",
       "0   1            5.1           3.5            1.4           0.2  Iris-setosa\n",
       "1   2            4.9           3.0            1.4           0.2  Iris-setosa\n",
       "2   3            4.7           3.2            1.3           0.2  Iris-setosa\n",
       "3   4            4.6           3.1            1.5           0.2  Iris-setosa\n",
       "4   5            5.0           3.6            1.4           0.2  Iris-setosa"
      ]
     },
     "execution_count": 3,
     "metadata": {},
     "output_type": "execute_result"
    }
   ],
   "source": [
    "df.head()"
   ]
  },
  {
   "cell_type": "code",
   "execution_count": 4,
   "id": "f548ca62",
   "metadata": {
    "execution": {
     "iopub.execute_input": "2024-12-14T05:32:32.542070Z",
     "iopub.status.busy": "2024-12-14T05:32:32.541151Z",
     "iopub.status.idle": "2024-12-14T05:32:32.552299Z",
     "shell.execute_reply": "2024-12-14T05:32:32.550904Z"
    },
    "papermill": {
     "duration": 0.021967,
     "end_time": "2024-12-14T05:32:32.554735",
     "exception": false,
     "start_time": "2024-12-14T05:32:32.532768",
     "status": "completed"
    },
    "tags": []
   },
   "outputs": [],
   "source": [
    "df = df.drop(columns='Id')"
   ]
  },
  {
   "cell_type": "code",
   "execution_count": 5,
   "id": "73745f82",
   "metadata": {
    "execution": {
     "iopub.execute_input": "2024-12-14T05:32:32.570716Z",
     "iopub.status.busy": "2024-12-14T05:32:32.570309Z",
     "iopub.status.idle": "2024-12-14T05:32:32.583609Z",
     "shell.execute_reply": "2024-12-14T05:32:32.582488Z"
    },
    "papermill": {
     "duration": 0.023938,
     "end_time": "2024-12-14T05:32:32.585906",
     "exception": false,
     "start_time": "2024-12-14T05:32:32.561968",
     "status": "completed"
    },
    "tags": []
   },
   "outputs": [
    {
     "data": {
      "text/html": [
       "<div>\n",
       "<style scoped>\n",
       "    .dataframe tbody tr th:only-of-type {\n",
       "        vertical-align: middle;\n",
       "    }\n",
       "\n",
       "    .dataframe tbody tr th {\n",
       "        vertical-align: top;\n",
       "    }\n",
       "\n",
       "    .dataframe thead th {\n",
       "        text-align: right;\n",
       "    }\n",
       "</style>\n",
       "<table border=\"1\" class=\"dataframe\">\n",
       "  <thead>\n",
       "    <tr style=\"text-align: right;\">\n",
       "      <th></th>\n",
       "      <th>SepalLengthCm</th>\n",
       "      <th>SepalWidthCm</th>\n",
       "      <th>PetalLengthCm</th>\n",
       "      <th>PetalWidthCm</th>\n",
       "      <th>Species</th>\n",
       "    </tr>\n",
       "  </thead>\n",
       "  <tbody>\n",
       "    <tr>\n",
       "      <th>0</th>\n",
       "      <td>5.1</td>\n",
       "      <td>3.5</td>\n",
       "      <td>1.4</td>\n",
       "      <td>0.2</td>\n",
       "      <td>Iris-setosa</td>\n",
       "    </tr>\n",
       "    <tr>\n",
       "      <th>1</th>\n",
       "      <td>4.9</td>\n",
       "      <td>3.0</td>\n",
       "      <td>1.4</td>\n",
       "      <td>0.2</td>\n",
       "      <td>Iris-setosa</td>\n",
       "    </tr>\n",
       "    <tr>\n",
       "      <th>2</th>\n",
       "      <td>4.7</td>\n",
       "      <td>3.2</td>\n",
       "      <td>1.3</td>\n",
       "      <td>0.2</td>\n",
       "      <td>Iris-setosa</td>\n",
       "    </tr>\n",
       "    <tr>\n",
       "      <th>3</th>\n",
       "      <td>4.6</td>\n",
       "      <td>3.1</td>\n",
       "      <td>1.5</td>\n",
       "      <td>0.2</td>\n",
       "      <td>Iris-setosa</td>\n",
       "    </tr>\n",
       "    <tr>\n",
       "      <th>4</th>\n",
       "      <td>5.0</td>\n",
       "      <td>3.6</td>\n",
       "      <td>1.4</td>\n",
       "      <td>0.2</td>\n",
       "      <td>Iris-setosa</td>\n",
       "    </tr>\n",
       "  </tbody>\n",
       "</table>\n",
       "</div>"
      ],
      "text/plain": [
       "   SepalLengthCm  SepalWidthCm  PetalLengthCm  PetalWidthCm      Species\n",
       "0            5.1           3.5            1.4           0.2  Iris-setosa\n",
       "1            4.9           3.0            1.4           0.2  Iris-setosa\n",
       "2            4.7           3.2            1.3           0.2  Iris-setosa\n",
       "3            4.6           3.1            1.5           0.2  Iris-setosa\n",
       "4            5.0           3.6            1.4           0.2  Iris-setosa"
      ]
     },
     "execution_count": 5,
     "metadata": {},
     "output_type": "execute_result"
    }
   ],
   "source": [
    "df.head()"
   ]
  },
  {
   "cell_type": "code",
   "execution_count": 6,
   "id": "9c1f219d",
   "metadata": {
    "execution": {
     "iopub.execute_input": "2024-12-14T05:32:32.602406Z",
     "iopub.status.busy": "2024-12-14T05:32:32.602017Z",
     "iopub.status.idle": "2024-12-14T05:32:33.985737Z",
     "shell.execute_reply": "2024-12-14T05:32:33.984685Z"
    },
    "papermill": {
     "duration": 1.395028,
     "end_time": "2024-12-14T05:32:33.988458",
     "exception": false,
     "start_time": "2024-12-14T05:32:32.593430",
     "status": "completed"
    },
    "tags": []
   },
   "outputs": [],
   "source": [
    "from sklearn.preprocessing import LabelEncoder"
   ]
  },
  {
   "cell_type": "code",
   "execution_count": 7,
   "id": "71bcfc43",
   "metadata": {
    "execution": {
     "iopub.execute_input": "2024-12-14T05:32:34.005083Z",
     "iopub.status.busy": "2024-12-14T05:32:34.004531Z",
     "iopub.status.idle": "2024-12-14T05:32:34.010159Z",
     "shell.execute_reply": "2024-12-14T05:32:34.009009Z"
    },
    "papermill": {
     "duration": 0.016501,
     "end_time": "2024-12-14T05:32:34.012485",
     "exception": false,
     "start_time": "2024-12-14T05:32:33.995984",
     "status": "completed"
    },
    "tags": []
   },
   "outputs": [],
   "source": [
    "encoder = LabelEncoder()"
   ]
  },
  {
   "cell_type": "code",
   "execution_count": 8,
   "id": "a7018c9a",
   "metadata": {
    "execution": {
     "iopub.execute_input": "2024-12-14T05:32:34.029568Z",
     "iopub.status.busy": "2024-12-14T05:32:34.029129Z",
     "iopub.status.idle": "2024-12-14T05:32:34.035059Z",
     "shell.execute_reply": "2024-12-14T05:32:34.033862Z"
    },
    "papermill": {
     "duration": 0.017127,
     "end_time": "2024-12-14T05:32:34.037509",
     "exception": false,
     "start_time": "2024-12-14T05:32:34.020382",
     "status": "completed"
    },
    "tags": []
   },
   "outputs": [],
   "source": [
    "df['Species'] = encoder.fit_transform(df['Species'])"
   ]
  },
  {
   "cell_type": "code",
   "execution_count": 9,
   "id": "9d973ec0",
   "metadata": {
    "execution": {
     "iopub.execute_input": "2024-12-14T05:32:34.054465Z",
     "iopub.status.busy": "2024-12-14T05:32:34.054060Z",
     "iopub.status.idle": "2024-12-14T05:32:34.067712Z",
     "shell.execute_reply": "2024-12-14T05:32:34.066597Z"
    },
    "papermill": {
     "duration": 0.024767,
     "end_time": "2024-12-14T05:32:34.069805",
     "exception": false,
     "start_time": "2024-12-14T05:32:34.045038",
     "status": "completed"
    },
    "tags": []
   },
   "outputs": [
    {
     "data": {
      "text/html": [
       "<div>\n",
       "<style scoped>\n",
       "    .dataframe tbody tr th:only-of-type {\n",
       "        vertical-align: middle;\n",
       "    }\n",
       "\n",
       "    .dataframe tbody tr th {\n",
       "        vertical-align: top;\n",
       "    }\n",
       "\n",
       "    .dataframe thead th {\n",
       "        text-align: right;\n",
       "    }\n",
       "</style>\n",
       "<table border=\"1\" class=\"dataframe\">\n",
       "  <thead>\n",
       "    <tr style=\"text-align: right;\">\n",
       "      <th></th>\n",
       "      <th>SepalLengthCm</th>\n",
       "      <th>SepalWidthCm</th>\n",
       "      <th>PetalLengthCm</th>\n",
       "      <th>PetalWidthCm</th>\n",
       "      <th>Species</th>\n",
       "    </tr>\n",
       "  </thead>\n",
       "  <tbody>\n",
       "    <tr>\n",
       "      <th>0</th>\n",
       "      <td>5.1</td>\n",
       "      <td>3.5</td>\n",
       "      <td>1.4</td>\n",
       "      <td>0.2</td>\n",
       "      <td>0</td>\n",
       "    </tr>\n",
       "    <tr>\n",
       "      <th>1</th>\n",
       "      <td>4.9</td>\n",
       "      <td>3.0</td>\n",
       "      <td>1.4</td>\n",
       "      <td>0.2</td>\n",
       "      <td>0</td>\n",
       "    </tr>\n",
       "    <tr>\n",
       "      <th>2</th>\n",
       "      <td>4.7</td>\n",
       "      <td>3.2</td>\n",
       "      <td>1.3</td>\n",
       "      <td>0.2</td>\n",
       "      <td>0</td>\n",
       "    </tr>\n",
       "    <tr>\n",
       "      <th>3</th>\n",
       "      <td>4.6</td>\n",
       "      <td>3.1</td>\n",
       "      <td>1.5</td>\n",
       "      <td>0.2</td>\n",
       "      <td>0</td>\n",
       "    </tr>\n",
       "    <tr>\n",
       "      <th>4</th>\n",
       "      <td>5.0</td>\n",
       "      <td>3.6</td>\n",
       "      <td>1.4</td>\n",
       "      <td>0.2</td>\n",
       "      <td>0</td>\n",
       "    </tr>\n",
       "  </tbody>\n",
       "</table>\n",
       "</div>"
      ],
      "text/plain": [
       "   SepalLengthCm  SepalWidthCm  PetalLengthCm  PetalWidthCm  Species\n",
       "0            5.1           3.5            1.4           0.2        0\n",
       "1            4.9           3.0            1.4           0.2        0\n",
       "2            4.7           3.2            1.3           0.2        0\n",
       "3            4.6           3.1            1.5           0.2        0\n",
       "4            5.0           3.6            1.4           0.2        0"
      ]
     },
     "execution_count": 9,
     "metadata": {},
     "output_type": "execute_result"
    }
   ],
   "source": [
    "df.head()"
   ]
  },
  {
   "cell_type": "code",
   "execution_count": 10,
   "id": "e40d35df",
   "metadata": {
    "execution": {
     "iopub.execute_input": "2024-12-14T05:32:34.086722Z",
     "iopub.status.busy": "2024-12-14T05:32:34.086286Z",
     "iopub.status.idle": "2024-12-14T05:32:34.096789Z",
     "shell.execute_reply": "2024-12-14T05:32:34.095690Z"
    },
    "papermill": {
     "duration": 0.021268,
     "end_time": "2024-12-14T05:32:34.098796",
     "exception": false,
     "start_time": "2024-12-14T05:32:34.077528",
     "status": "completed"
    },
    "tags": []
   },
   "outputs": [],
   "source": [
    "df = df[df['Species'] != 0][['SepalWidthCm','PetalLengthCm','Species']]"
   ]
  },
  {
   "cell_type": "code",
   "execution_count": 11,
   "id": "de70ad2a",
   "metadata": {
    "execution": {
     "iopub.execute_input": "2024-12-14T05:32:34.116191Z",
     "iopub.status.busy": "2024-12-14T05:32:34.115789Z",
     "iopub.status.idle": "2024-12-14T05:32:34.126696Z",
     "shell.execute_reply": "2024-12-14T05:32:34.125662Z"
    },
    "papermill": {
     "duration": 0.021889,
     "end_time": "2024-12-14T05:32:34.128832",
     "exception": false,
     "start_time": "2024-12-14T05:32:34.106943",
     "status": "completed"
    },
    "tags": []
   },
   "outputs": [
    {
     "data": {
      "text/html": [
       "<div>\n",
       "<style scoped>\n",
       "    .dataframe tbody tr th:only-of-type {\n",
       "        vertical-align: middle;\n",
       "    }\n",
       "\n",
       "    .dataframe tbody tr th {\n",
       "        vertical-align: top;\n",
       "    }\n",
       "\n",
       "    .dataframe thead th {\n",
       "        text-align: right;\n",
       "    }\n",
       "</style>\n",
       "<table border=\"1\" class=\"dataframe\">\n",
       "  <thead>\n",
       "    <tr style=\"text-align: right;\">\n",
       "      <th></th>\n",
       "      <th>SepalWidthCm</th>\n",
       "      <th>PetalLengthCm</th>\n",
       "      <th>Species</th>\n",
       "    </tr>\n",
       "  </thead>\n",
       "  <tbody>\n",
       "    <tr>\n",
       "      <th>50</th>\n",
       "      <td>3.2</td>\n",
       "      <td>4.7</td>\n",
       "      <td>1</td>\n",
       "    </tr>\n",
       "    <tr>\n",
       "      <th>51</th>\n",
       "      <td>3.2</td>\n",
       "      <td>4.5</td>\n",
       "      <td>1</td>\n",
       "    </tr>\n",
       "    <tr>\n",
       "      <th>52</th>\n",
       "      <td>3.1</td>\n",
       "      <td>4.9</td>\n",
       "      <td>1</td>\n",
       "    </tr>\n",
       "    <tr>\n",
       "      <th>53</th>\n",
       "      <td>2.3</td>\n",
       "      <td>4.0</td>\n",
       "      <td>1</td>\n",
       "    </tr>\n",
       "    <tr>\n",
       "      <th>54</th>\n",
       "      <td>2.8</td>\n",
       "      <td>4.6</td>\n",
       "      <td>1</td>\n",
       "    </tr>\n",
       "  </tbody>\n",
       "</table>\n",
       "</div>"
      ],
      "text/plain": [
       "    SepalWidthCm  PetalLengthCm  Species\n",
       "50           3.2            4.7        1\n",
       "51           3.2            4.5        1\n",
       "52           3.1            4.9        1\n",
       "53           2.3            4.0        1\n",
       "54           2.8            4.6        1"
      ]
     },
     "execution_count": 11,
     "metadata": {},
     "output_type": "execute_result"
    }
   ],
   "source": [
    "df.head()"
   ]
  },
  {
   "cell_type": "code",
   "execution_count": 12,
   "id": "36e89dcf",
   "metadata": {
    "execution": {
     "iopub.execute_input": "2024-12-14T05:32:34.146397Z",
     "iopub.status.busy": "2024-12-14T05:32:34.145973Z",
     "iopub.status.idle": "2024-12-14T05:32:34.731076Z",
     "shell.execute_reply": "2024-12-14T05:32:34.730087Z"
    },
    "papermill": {
     "duration": 0.59666,
     "end_time": "2024-12-14T05:32:34.733571",
     "exception": false,
     "start_time": "2024-12-14T05:32:34.136911",
     "status": "completed"
    },
    "tags": []
   },
   "outputs": [],
   "source": [
    "import seaborn as sns\n",
    "import matplotlib.pyplot as plt"
   ]
  },
  {
   "cell_type": "code",
   "execution_count": 13,
   "id": "4c287bfc",
   "metadata": {
    "execution": {
     "iopub.execute_input": "2024-12-14T05:32:34.750978Z",
     "iopub.status.busy": "2024-12-14T05:32:34.750417Z",
     "iopub.status.idle": "2024-12-14T05:32:35.062790Z",
     "shell.execute_reply": "2024-12-14T05:32:35.061776Z"
    },
    "papermill": {
     "duration": 0.323743,
     "end_time": "2024-12-14T05:32:35.065223",
     "exception": false,
     "start_time": "2024-12-14T05:32:34.741480",
     "status": "completed"
    },
    "tags": []
   },
   "outputs": [
    {
     "data": {
      "text/plain": [
       "<matplotlib.collections.PathCollection at 0x782d74789b10>"
      ]
     },
     "execution_count": 13,
     "metadata": {},
     "output_type": "execute_result"
    },
    {
     "data": {
      "image/png": "[encoded data removed]",
      "text/plain": [
       "<Figure size 640x480 with 1 Axes>"
      ]
     },
     "metadata": {},
     "output_type": "display_data"
    }
   ],
   "source": [
    "plt.scatter(df['SepalWidthCm'],df['PetalLengthCm'], c=df['Species'],cmap='winter')"
   ]
  },
  {
   "cell_type": "code",
   "execution_count": 14,
   "id": "9f5881c1",
   "metadata": {
    "execution": {
     "iopub.execute_input": "2024-12-14T05:32:35.083753Z",
     "iopub.status.busy": "2024-12-14T05:32:35.083351Z",
     "iopub.status.idle": "2024-12-14T05:32:35.092572Z",
     "shell.execute_reply": "2024-12-14T05:32:35.091318Z"
    },
    "papermill": {
     "duration": 0.021136,
     "end_time": "2024-12-14T05:32:35.094967",
     "exception": false,
     "start_time": "2024-12-14T05:32:35.073831",
     "status": "completed"
    },
    "tags": []
   },
   "outputs": [],
   "source": [
    "# Taking only 10 rows for training\n",
    "\n",
    "df = df.sample(100)\n",
    "df_train = df.iloc[:60,:].sample(10)\n",
    "df_val = df.iloc[60:80,:].sample(5)\n",
    "df_test = df.iloc[80:,:].sample(5)"
   ]
  },
  {
   "cell_type": "code",
   "execution_count": 15,
   "id": "7e5d7b86",
   "metadata": {
    "execution": {
     "iopub.execute_input": "2024-12-14T05:32:35.112845Z",
     "iopub.status.busy": "2024-12-14T05:32:35.112451Z",
     "iopub.status.idle": "2024-12-14T05:32:35.124991Z",
     "shell.execute_reply": "2024-12-14T05:32:35.123793Z"
    },
    "papermill": {
     "duration": 0.023959,
     "end_time": "2024-12-14T05:32:35.127140",
     "exception": false,
     "start_time": "2024-12-14T05:32:35.103181",
     "status": "completed"
    },
    "tags": []
   },
   "outputs": [
    {
     "data": {
      "text/html": [
       "<div>\n",
       "<style scoped>\n",
       "    .dataframe tbody tr th:only-of-type {\n",
       "        vertical-align: middle;\n",
       "    }\n",
       "\n",
       "    .dataframe tbody tr th {\n",
       "        vertical-align: top;\n",
       "    }\n",
       "\n",
       "    .dataframe thead th {\n",
       "        text-align: right;\n",
       "    }\n",
       "</style>\n",
       "<table border=\"1\" class=\"dataframe\">\n",
       "  <thead>\n",
       "    <tr style=\"text-align: right;\">\n",
       "      <th></th>\n",
       "      <th>SepalWidthCm</th>\n",
       "      <th>PetalLengthCm</th>\n",
       "      <th>Species</th>\n",
       "    </tr>\n",
       "  </thead>\n",
       "  <tbody>\n",
       "    <tr>\n",
       "      <th>72</th>\n",
       "      <td>2.5</td>\n",
       "      <td>4.9</td>\n",
       "      <td>1</td>\n",
       "    </tr>\n",
       "    <tr>\n",
       "      <th>138</th>\n",
       "      <td>3.0</td>\n",
       "      <td>4.8</td>\n",
       "      <td>2</td>\n",
       "    </tr>\n",
       "    <tr>\n",
       "      <th>124</th>\n",
       "      <td>3.3</td>\n",
       "      <td>5.7</td>\n",
       "      <td>2</td>\n",
       "    </tr>\n",
       "    <tr>\n",
       "      <th>113</th>\n",
       "      <td>2.5</td>\n",
       "      <td>5.0</td>\n",
       "      <td>2</td>\n",
       "    </tr>\n",
       "    <tr>\n",
       "      <th>97</th>\n",
       "      <td>2.9</td>\n",
       "      <td>4.3</td>\n",
       "      <td>1</td>\n",
       "    </tr>\n",
       "    <tr>\n",
       "      <th>85</th>\n",
       "      <td>3.4</td>\n",
       "      <td>4.5</td>\n",
       "      <td>1</td>\n",
       "    </tr>\n",
       "    <tr>\n",
       "      <th>89</th>\n",
       "      <td>2.5</td>\n",
       "      <td>4.0</td>\n",
       "      <td>1</td>\n",
       "    </tr>\n",
       "    <tr>\n",
       "      <th>51</th>\n",
       "      <td>3.2</td>\n",
       "      <td>4.5</td>\n",
       "      <td>1</td>\n",
       "    </tr>\n",
       "    <tr>\n",
       "      <th>67</th>\n",
       "      <td>2.7</td>\n",
       "      <td>4.1</td>\n",
       "      <td>1</td>\n",
       "    </tr>\n",
       "    <tr>\n",
       "      <th>101</th>\n",
       "      <td>2.7</td>\n",
       "      <td>5.1</td>\n",
       "      <td>2</td>\n",
       "    </tr>\n",
       "  </tbody>\n",
       "</table>\n",
       "</div>"
      ],
      "text/plain": [
       "     SepalWidthCm  PetalLengthCm  Species\n",
       "72            2.5            4.9        1\n",
       "138           3.0            4.8        2\n",
       "124           3.3            5.7        2\n",
       "113           2.5            5.0        2\n",
       "97            2.9            4.3        1\n",
       "85            3.4            4.5        1\n",
       "89            2.5            4.0        1\n",
       "51            3.2            4.5        1\n",
       "67            2.7            4.1        1\n",
       "101           2.7            5.1        2"
      ]
     },
     "execution_count": 15,
     "metadata": {},
     "output_type": "execute_result"
    }
   ],
   "source": [
    "df_train"
   ]
  },
  {
   "cell_type": "code",
   "execution_count": 16,
   "id": "e58f482b",
   "metadata": {
    "execution": {
     "iopub.execute_input": "2024-12-14T05:32:35.145847Z",
     "iopub.status.busy": "2024-12-14T05:32:35.145447Z",
     "iopub.status.idle": "2024-12-14T05:32:35.151160Z",
     "shell.execute_reply": "2024-12-14T05:32:35.150170Z"
    },
    "papermill": {
     "duration": 0.017457,
     "end_time": "2024-12-14T05:32:35.153216",
     "exception": false,
     "start_time": "2024-12-14T05:32:35.135759",
     "status": "completed"
    },
    "tags": []
   },
   "outputs": [],
   "source": [
    "X_test = df_val.iloc[:,0:2].values\n",
    "y_test = df_val.iloc[:,-1].values"
   ]
  },
  {
   "cell_type": "markdown",
   "id": "f5f1be68",
   "metadata": {
    "papermill": {
     "duration": 0.008166,
     "end_time": "2024-12-14T05:32:35.170084",
     "exception": false,
     "start_time": "2024-12-14T05:32:35.161918",
     "status": "completed"
    },
    "tags": []
   },
   "source": [
    "# Case 1 Bagging"
   ]
  },
  {
   "cell_type": "code",
   "execution_count": 17,
   "id": "7a4739b3",
   "metadata": {
    "execution": {
     "iopub.execute_input": "2024-12-14T05:32:35.188870Z",
     "iopub.status.busy": "2024-12-14T05:32:35.188465Z",
     "iopub.status.idle": "2024-12-14T05:32:35.201260Z",
     "shell.execute_reply": "2024-12-14T05:32:35.200089Z"
    },
    "papermill": {
     "duration": 0.024709,
     "end_time": "2024-12-14T05:32:35.203505",
     "exception": false,
     "start_time": "2024-12-14T05:32:35.178796",
     "status": "completed"
    },
    "tags": []
   },
   "outputs": [
    {
     "data": {
      "text/html": [
       "<div>\n",
       "<style scoped>\n",
       "    .dataframe tbody tr th:only-of-type {\n",
       "        vertical-align: middle;\n",
       "    }\n",
       "\n",
       "    .dataframe tbody tr th {\n",
       "        vertical-align: top;\n",
       "    }\n",
       "\n",
       "    .dataframe thead th {\n",
       "        text-align: right;\n",
       "    }\n",
       "</style>\n",
       "<table border=\"1\" class=\"dataframe\">\n",
       "  <thead>\n",
       "    <tr style=\"text-align: right;\">\n",
       "      <th></th>\n",
       "      <th>SepalWidthCm</th>\n",
       "      <th>PetalLengthCm</th>\n",
       "      <th>Species</th>\n",
       "    </tr>\n",
       "  </thead>\n",
       "  <tbody>\n",
       "    <tr>\n",
       "      <th>89</th>\n",
       "      <td>2.5</td>\n",
       "      <td>4.0</td>\n",
       "      <td>1</td>\n",
       "    </tr>\n",
       "    <tr>\n",
       "      <th>51</th>\n",
       "      <td>3.2</td>\n",
       "      <td>4.5</td>\n",
       "      <td>1</td>\n",
       "    </tr>\n",
       "    <tr>\n",
       "      <th>85</th>\n",
       "      <td>3.4</td>\n",
       "      <td>4.5</td>\n",
       "      <td>1</td>\n",
       "    </tr>\n",
       "    <tr>\n",
       "      <th>113</th>\n",
       "      <td>2.5</td>\n",
       "      <td>5.0</td>\n",
       "      <td>2</td>\n",
       "    </tr>\n",
       "    <tr>\n",
       "      <th>138</th>\n",
       "      <td>3.0</td>\n",
       "      <td>4.8</td>\n",
       "      <td>2</td>\n",
       "    </tr>\n",
       "    <tr>\n",
       "      <th>67</th>\n",
       "      <td>2.7</td>\n",
       "      <td>4.1</td>\n",
       "      <td>1</td>\n",
       "    </tr>\n",
       "    <tr>\n",
       "      <th>101</th>\n",
       "      <td>2.7</td>\n",
       "      <td>5.1</td>\n",
       "      <td>2</td>\n",
       "    </tr>\n",
       "    <tr>\n",
       "      <th>124</th>\n",
       "      <td>3.3</td>\n",
       "      <td>5.7</td>\n",
       "      <td>2</td>\n",
       "    </tr>\n",
       "  </tbody>\n",
       "</table>\n",
       "</div>"
      ],
      "text/plain": [
       "     SepalWidthCm  PetalLengthCm  Species\n",
       "89            2.5            4.0        1\n",
       "51            3.2            4.5        1\n",
       "85            3.4            4.5        1\n",
       "113           2.5            5.0        2\n",
       "138           3.0            4.8        2\n",
       "67            2.7            4.1        1\n",
       "101           2.7            5.1        2\n",
       "124           3.3            5.7        2"
      ]
     },
     "execution_count": 17,
     "metadata": {},
     "output_type": "execute_result"
    }
   ],
   "source": [
    "df_bag = df_train.sample(8,replace=True)\n",
    "\n",
    "X = df_bag.iloc[:,0:2]\n",
    "y = df_bag.iloc[:,-1]\n",
    "\n",
    "df_bag"
   ]
  },
  {
   "cell_type": "code",
   "execution_count": 18,
   "id": "b1717b48",
   "metadata": {
    "execution": {
     "iopub.execute_input": "2024-12-14T05:32:35.222853Z",
     "iopub.status.busy": "2024-12-14T05:32:35.222409Z",
     "iopub.status.idle": "2024-12-14T05:32:35.608901Z",
     "shell.execute_reply": "2024-12-14T05:32:35.607637Z"
    },
    "papermill": {
     "duration": 0.398976,
     "end_time": "2024-12-14T05:32:35.611400",
     "exception": false,
     "start_time": "2024-12-14T05:32:35.212424",
     "status": "completed"
    },
    "tags": []
   },
   "outputs": [],
   "source": [
    "from sklearn.tree import DecisionTreeClassifier\n",
    "from sklearn.tree import plot_tree\n",
    "from mlxtend.plotting import plot_decision_regions\n",
    "from sklearn.metrics import accuracy_score"
   ]
  },
  {
   "cell_type": "code",
   "execution_count": 19,
   "id": "9e208e5d",
   "metadata": {
    "execution": {
     "iopub.execute_input": "2024-12-14T05:32:35.630746Z",
     "iopub.status.busy": "2024-12-14T05:32:35.630289Z",
     "iopub.status.idle": "2024-12-14T05:32:35.635261Z",
     "shell.execute_reply": "2024-12-14T05:32:35.634216Z"
    },
    "papermill": {
     "duration": 0.01701,
     "end_time": "2024-12-14T05:32:35.637298",
     "exception": false,
     "start_time": "2024-12-14T05:32:35.620288",
     "status": "completed"
    },
    "tags": []
   },
   "outputs": [],
   "source": [
    "dt_bag1 = DecisionTreeClassifier()"
   ]
  },
  {
   "cell_type": "code",
   "execution_count": 20,
   "id": "ca29cbd6",
   "metadata": {
    "execution": {
     "iopub.execute_input": "2024-12-14T05:32:35.656322Z",
     "iopub.status.busy": "2024-12-14T05:32:35.655912Z",
     "iopub.status.idle": "2024-12-14T05:32:35.661595Z",
     "shell.execute_reply": "2024-12-14T05:32:35.660458Z"
    },
    "papermill": {
     "duration": 0.017827,
     "end_time": "2024-12-14T05:32:35.663750",
     "exception": false,
     "start_time": "2024-12-14T05:32:35.645923",
     "status": "completed"
    },
    "tags": []
   },
   "outputs": [],
   "source": [
    "def evaluate(clf,X,y):\n",
    "    clf.fit(X,y)\n",
    "    plot_tree(clf)\n",
    "    plt.show()\n",
    "    plot_decision_regions(X.values,y.values, clf = clf, legend=2)\n",
    "    y_pred = clf.predict(X_test)\n",
    "    print(accuracy_score(y_test,y_pred))"
   ]
  },
  {
   "cell_type": "code",
   "execution_count": 21,
   "id": "af77c41b",
   "metadata": {
    "execution": {
     "iopub.execute_input": "2024-12-14T05:32:35.682604Z",
     "iopub.status.busy": "2024-12-14T05:32:35.682143Z",
     "iopub.status.idle": "2024-12-14T05:32:36.274296Z",
     "shell.execute_reply": "2024-12-14T05:32:36.273243Z"
    },
    "papermill": {
     "duration": 0.604297,
     "end_time": "2024-12-14T05:32:36.276725",
     "exception": false,
     "start_time": "2024-12-14T05:32:35.672428",
     "status": "completed"
    },
    "tags": []
   },
   "outputs": [
    {
     "data": {
      "image/png": "[encoded data removed]",
      "text/plain": [
       "<Figure size 640x480 with 1 Axes>"
      ]
     },
     "metadata": {},
     "output_type": "display_data"
    },
    {
     "name": "stderr",
     "output_type": "stream",
     "text": [
      "/opt/conda/lib/python3.10/site-packages/sklearn/base.py:439: UserWarning: X does not have valid feature names, but DecisionTreeClassifier was fitted with feature names\n",
      "  warnings.warn(\n",
      "/opt/conda/lib/python3.10/site-packages/sklearn/base.py:439: UserWarning: X does not have valid feature names, but DecisionTreeClassifier was fitted with feature names\n",
      "  warnings.warn(\n"
     ]
    },
    {
     "name": "stdout",
     "output_type": "stream",
     "text": [
      "1.0\n"
     ]
    },
    {
     "data": {
      "image/png": "[encoded data removed]",
      "text/plain": [
       "<Figure size 640x480 with 1 Axes>"
      ]
     },
     "metadata": {},
     "output_type": "display_data"
    }
   ],
   "source": [
    "evaluate(dt_bag1,X,y)"
   ]
  },
  {
   "cell_type": "code",
   "execution_count": 22,
   "id": "e2ac0924",
   "metadata": {
    "execution": {
     "iopub.execute_input": "2024-12-14T05:32:36.297633Z",
     "iopub.status.busy": "2024-12-14T05:32:36.297207Z",
     "iopub.status.idle": "2024-12-14T05:32:36.310755Z",
     "shell.execute_reply": "2024-12-14T05:32:36.309694Z"
    },
    "papermill": {
     "duration": 0.026471,
     "end_time": "2024-12-14T05:32:36.312801",
     "exception": false,
     "start_time": "2024-12-14T05:32:36.286330",
     "status": "completed"
    },
    "tags": []
   },
   "outputs": [
    {
     "data": {
      "text/html": [
       "<div>\n",
       "<style scoped>\n",
       "    .dataframe tbody tr th:only-of-type {\n",
       "        vertical-align: middle;\n",
       "    }\n",
       "\n",
       "    .dataframe tbody tr th {\n",
       "        vertical-align: top;\n",
       "    }\n",
       "\n",
       "    .dataframe thead th {\n",
       "        text-align: right;\n",
       "    }\n",
       "</style>\n",
       "<table border=\"1\" class=\"dataframe\">\n",
       "  <thead>\n",
       "    <tr style=\"text-align: right;\">\n",
       "      <th></th>\n",
       "      <th>SepalWidthCm</th>\n",
       "      <th>PetalLengthCm</th>\n",
       "      <th>Species</th>\n",
       "    </tr>\n",
       "  </thead>\n",
       "  <tbody>\n",
       "    <tr>\n",
       "      <th>101</th>\n",
       "      <td>2.7</td>\n",
       "      <td>5.1</td>\n",
       "      <td>2</td>\n",
       "    </tr>\n",
       "    <tr>\n",
       "      <th>138</th>\n",
       "      <td>3.0</td>\n",
       "      <td>4.8</td>\n",
       "      <td>2</td>\n",
       "    </tr>\n",
       "    <tr>\n",
       "      <th>51</th>\n",
       "      <td>3.2</td>\n",
       "      <td>4.5</td>\n",
       "      <td>1</td>\n",
       "    </tr>\n",
       "    <tr>\n",
       "      <th>85</th>\n",
       "      <td>3.4</td>\n",
       "      <td>4.5</td>\n",
       "      <td>1</td>\n",
       "    </tr>\n",
       "    <tr>\n",
       "      <th>72</th>\n",
       "      <td>2.5</td>\n",
       "      <td>4.9</td>\n",
       "      <td>1</td>\n",
       "    </tr>\n",
       "    <tr>\n",
       "      <th>67</th>\n",
       "      <td>2.7</td>\n",
       "      <td>4.1</td>\n",
       "      <td>1</td>\n",
       "    </tr>\n",
       "    <tr>\n",
       "      <th>72</th>\n",
       "      <td>2.5</td>\n",
       "      <td>4.9</td>\n",
       "      <td>1</td>\n",
       "    </tr>\n",
       "    <tr>\n",
       "      <th>113</th>\n",
       "      <td>2.5</td>\n",
       "      <td>5.0</td>\n",
       "      <td>2</td>\n",
       "    </tr>\n",
       "  </tbody>\n",
       "</table>\n",
       "</div>"
      ],
      "text/plain": [
       "     SepalWidthCm  PetalLengthCm  Species\n",
       "101           2.7            5.1        2\n",
       "138           3.0            4.8        2\n",
       "51            3.2            4.5        1\n",
       "85            3.4            4.5        1\n",
       "72            2.5            4.9        1\n",
       "67            2.7            4.1        1\n",
       "72            2.5            4.9        1\n",
       "113           2.5            5.0        2"
      ]
     },
     "execution_count": 22,
     "metadata": {},
     "output_type": "execute_result"
    }
   ],
   "source": [
    "df_bag = df_train.sample(8,replace=True)\n",
    "\n",
    "X = df_bag.iloc[:,0:2]\n",
    "y = df_bag.iloc[:,-1]\n",
    "\n",
    "df_bag"
   ]
  },
  {
   "cell_type": "code",
   "execution_count": 23,
   "id": "f186d2b7",
   "metadata": {
    "execution": {
     "iopub.execute_input": "2024-12-14T05:32:36.333974Z",
     "iopub.status.busy": "2024-12-14T05:32:36.333614Z",
     "iopub.status.idle": "2024-12-14T05:32:36.876900Z",
     "shell.execute_reply": "2024-12-14T05:32:36.875812Z"
    },
    "papermill": {
     "duration": 0.556725,
     "end_time": "2024-12-14T05:32:36.879127",
     "exception": false,
     "start_time": "2024-12-14T05:32:36.322402",
     "status": "completed"
    },
    "tags": []
   },
   "outputs": [
    {
     "data": {
      "image/png": "[encoded data removed]",
      "text/plain": [
       "<Figure size 640x480 with 1 Axes>"
      ]
     },
     "metadata": {},
     "output_type": "display_data"
    },
    {
     "name": "stderr",
     "output_type": "stream",
     "text": [
      "/opt/conda/lib/python3.10/site-packages/sklearn/base.py:439: UserWarning: X does not have valid feature names, but DecisionTreeClassifier was fitted with feature names\n",
      "  warnings.warn(\n",
      "/opt/conda/lib/python3.10/site-packages/sklearn/base.py:439: UserWarning: X does not have valid feature names, but DecisionTreeClassifier was fitted with feature names\n",
      "  warnings.warn(\n"
     ]
    },
    {
     "name": "stdout",
     "output_type": "stream",
     "text": [
      "1.0\n"
     ]
    },
    {
     "data": {
      "image/png": "[encoded data removed]",
      "text/plain": [
       "<Figure size 640x480 with 1 Axes>"
      ]
     },
     "metadata": {},
     "output_type": "display_data"
    }
   ],
   "source": [
    "dt_bag2 = DecisionTreeClassifier()\n",
    "evaluate(dt_bag2,X,y)"
   ]
  },
  {
   "cell_type": "code",
   "execution_count": 24,
   "id": "98a98031",
   "metadata": {
    "execution": {
     "iopub.execute_input": "2024-12-14T05:32:36.903632Z",
     "iopub.status.busy": "2024-12-14T05:32:36.902530Z",
     "iopub.status.idle": "2024-12-14T05:32:36.916573Z",
     "shell.execute_reply": "2024-12-14T05:32:36.915007Z"
    },
    "papermill": {
     "duration": 0.029373,
     "end_time": "2024-12-14T05:32:36.919623",
     "exception": false,
     "start_time": "2024-12-14T05:32:36.890250",
     "status": "completed"
    },
    "tags": []
   },
   "outputs": [
    {
     "data": {
      "text/html": [
       "<div>\n",
       "<style scoped>\n",
       "    .dataframe tbody tr th:only-of-type {\n",
       "        vertical-align: middle;\n",
       "    }\n",
       "\n",
       "    .dataframe tbody tr th {\n",
       "        vertical-align: top;\n",
       "    }\n",
       "\n",
       "    .dataframe thead th {\n",
       "        text-align: right;\n",
       "    }\n",
       "</style>\n",
       "<table border=\"1\" class=\"dataframe\">\n",
       "  <thead>\n",
       "    <tr style=\"text-align: right;\">\n",
       "      <th></th>\n",
       "      <th>SepalWidthCm</th>\n",
       "      <th>PetalLengthCm</th>\n",
       "      <th>Species</th>\n",
       "    </tr>\n",
       "  </thead>\n",
       "  <tbody>\n",
       "    <tr>\n",
       "      <th>124</th>\n",
       "      <td>3.3</td>\n",
       "      <td>5.7</td>\n",
       "      <td>2</td>\n",
       "    </tr>\n",
       "    <tr>\n",
       "      <th>124</th>\n",
       "      <td>3.3</td>\n",
       "      <td>5.7</td>\n",
       "      <td>2</td>\n",
       "    </tr>\n",
       "    <tr>\n",
       "      <th>72</th>\n",
       "      <td>2.5</td>\n",
       "      <td>4.9</td>\n",
       "      <td>1</td>\n",
       "    </tr>\n",
       "    <tr>\n",
       "      <th>97</th>\n",
       "      <td>2.9</td>\n",
       "      <td>4.3</td>\n",
       "      <td>1</td>\n",
       "    </tr>\n",
       "    <tr>\n",
       "      <th>97</th>\n",
       "      <td>2.9</td>\n",
       "      <td>4.3</td>\n",
       "      <td>1</td>\n",
       "    </tr>\n",
       "    <tr>\n",
       "      <th>97</th>\n",
       "      <td>2.9</td>\n",
       "      <td>4.3</td>\n",
       "      <td>1</td>\n",
       "    </tr>\n",
       "    <tr>\n",
       "      <th>101</th>\n",
       "      <td>2.7</td>\n",
       "      <td>5.1</td>\n",
       "      <td>2</td>\n",
       "    </tr>\n",
       "    <tr>\n",
       "      <th>85</th>\n",
       "      <td>3.4</td>\n",
       "      <td>4.5</td>\n",
       "      <td>1</td>\n",
       "    </tr>\n",
       "  </tbody>\n",
       "</table>\n",
       "</div>"
      ],
      "text/plain": [
       "     SepalWidthCm  PetalLengthCm  Species\n",
       "124           3.3            5.7        2\n",
       "124           3.3            5.7        2\n",
       "72            2.5            4.9        1\n",
       "97            2.9            4.3        1\n",
       "97            2.9            4.3        1\n",
       "97            2.9            4.3        1\n",
       "101           2.7            5.1        2\n",
       "85            3.4            4.5        1"
      ]
     },
     "execution_count": 24,
     "metadata": {},
     "output_type": "execute_result"
    }
   ],
   "source": [
    "df_bag = df_train.sample(8,replace=True)\n",
    "\n",
    "X = df_bag.iloc[:,0:2]\n",
    "y = df_bag.iloc[:,-1]\n",
    "\n",
    "df_bag"
   ]
  },
  {
   "cell_type": "code",
   "execution_count": 25,
   "id": "32a32203",
   "metadata": {
    "execution": {
     "iopub.execute_input": "2024-12-14T05:32:36.943892Z",
     "iopub.status.busy": "2024-12-14T05:32:36.943004Z",
     "iopub.status.idle": "2024-12-14T05:32:37.503414Z",
     "shell.execute_reply": "2024-12-14T05:32:37.502139Z"
    },
    "papermill": {
     "duration": 0.575087,
     "end_time": "2024-12-14T05:32:37.505934",
     "exception": false,
     "start_time": "2024-12-14T05:32:36.930847",
     "status": "completed"
    },
    "tags": []
   },
   "outputs": [
    {
     "data": {
      "image/png": "[encoded data removed]",
      "text/plain": [
       "<Figure size 640x480 with 1 Axes>"
      ]
     },
     "metadata": {},
     "output_type": "display_data"
    },
    {
     "name": "stderr",
     "output_type": "stream",
     "text": [
      "/opt/conda/lib/python3.10/site-packages/sklearn/base.py:439: UserWarning: X does not have valid feature names, but DecisionTreeClassifier was fitted with feature names\n",
      "  warnings.warn(\n",
      "/opt/conda/lib/python3.10/site-packages/sklearn/base.py:439: UserWarning: X does not have valid feature names, but DecisionTreeClassifier was fitted with feature names\n",
      "  warnings.warn(\n"
     ]
    },
    {
     "name": "stdout",
     "output_type": "stream",
     "text": [
      "1.0\n"
     ]
    },
    {
     "data": {
      "image/png": "[encoded data removed]",
      "text/plain": [
       "<Figure size 640x480 with 1 Axes>"
      ]
     },
     "metadata": {},
     "output_type": "display_data"
    }
   ],
   "source": [
    "dt_bag3 = DecisionTreeClassifier()\n",
    "evaluate(dt_bag3,X,y)"
   ]
  },
  {
   "cell_type": "markdown",
   "id": "d79783d9",
   "metadata": {
    "papermill": {
     "duration": 0.012621,
     "end_time": "2024-12-14T05:32:37.531301",
     "exception": false,
     "start_time": "2024-12-14T05:32:37.518680",
     "status": "completed"
    },
    "tags": []
   },
   "source": [
    "# Predict"
   ]
  },
  {
   "cell_type": "code",
   "execution_count": 26,
   "id": "ffa5f8f6",
   "metadata": {
    "execution": {
     "iopub.execute_input": "2024-12-14T05:32:37.556592Z",
     "iopub.status.busy": "2024-12-14T05:32:37.556185Z",
     "iopub.status.idle": "2024-12-14T05:32:37.568746Z",
     "shell.execute_reply": "2024-12-14T05:32:37.567536Z"
    },
    "papermill": {
     "duration": 0.028094,
     "end_time": "2024-12-14T05:32:37.571039",
     "exception": false,
     "start_time": "2024-12-14T05:32:37.542945",
     "status": "completed"
    },
    "tags": []
   },
   "outputs": [
    {
     "data": {
      "text/html": [
       "<div>\n",
       "<style scoped>\n",
       "    .dataframe tbody tr th:only-of-type {\n",
       "        vertical-align: middle;\n",
       "    }\n",
       "\n",
       "    .dataframe tbody tr th {\n",
       "        vertical-align: top;\n",
       "    }\n",
       "\n",
       "    .dataframe thead th {\n",
       "        text-align: right;\n",
       "    }\n",
       "</style>\n",
       "<table border=\"1\" class=\"dataframe\">\n",
       "  <thead>\n",
       "    <tr style=\"text-align: right;\">\n",
       "      <th></th>\n",
       "      <th>SepalWidthCm</th>\n",
       "      <th>PetalLengthCm</th>\n",
       "      <th>Species</th>\n",
       "    </tr>\n",
       "  </thead>\n",
       "  <tbody>\n",
       "    <tr>\n",
       "      <th>140</th>\n",
       "      <td>3.1</td>\n",
       "      <td>5.6</td>\n",
       "      <td>2</td>\n",
       "    </tr>\n",
       "    <tr>\n",
       "      <th>99</th>\n",
       "      <td>2.8</td>\n",
       "      <td>4.1</td>\n",
       "      <td>1</td>\n",
       "    </tr>\n",
       "    <tr>\n",
       "      <th>141</th>\n",
       "      <td>3.1</td>\n",
       "      <td>5.1</td>\n",
       "      <td>2</td>\n",
       "    </tr>\n",
       "    <tr>\n",
       "      <th>58</th>\n",
       "      <td>2.9</td>\n",
       "      <td>4.6</td>\n",
       "      <td>1</td>\n",
       "    </tr>\n",
       "    <tr>\n",
       "      <th>76</th>\n",
       "      <td>2.8</td>\n",
       "      <td>4.8</td>\n",
       "      <td>1</td>\n",
       "    </tr>\n",
       "  </tbody>\n",
       "</table>\n",
       "</div>"
      ],
      "text/plain": [
       "     SepalWidthCm  PetalLengthCm  Species\n",
       "140           3.1            5.6        2\n",
       "99            2.8            4.1        1\n",
       "141           3.1            5.1        2\n",
       "58            2.9            4.6        1\n",
       "76            2.8            4.8        1"
      ]
     },
     "execution_count": 26,
     "metadata": {},
     "output_type": "execute_result"
    }
   ],
   "source": [
    "df_test"
   ]
  },
  {
   "cell_type": "code",
   "execution_count": 27,
   "id": "b9b9d4c7",
   "metadata": {
    "execution": {
     "iopub.execute_input": "2024-12-14T05:32:37.597296Z",
     "iopub.status.busy": "2024-12-14T05:32:37.596843Z",
     "iopub.status.idle": "2024-12-14T05:32:37.605045Z",
     "shell.execute_reply": "2024-12-14T05:32:37.604011Z"
    },
    "papermill": {
     "duration": 0.024856,
     "end_time": "2024-12-14T05:32:37.608520",
     "exception": false,
     "start_time": "2024-12-14T05:32:37.583664",
     "status": "completed"
    },
    "tags": []
   },
   "outputs": [
    {
     "name": "stdout",
     "output_type": "stream",
     "text": [
      "Predictor 1  [2]\n",
      "Predictor 2  [2]\n",
      "Predictor 3  [2]\n"
     ]
    },
    {
     "name": "stderr",
     "output_type": "stream",
     "text": [
      "/opt/conda/lib/python3.10/site-packages/sklearn/base.py:439: UserWarning: X does not have valid feature names, but DecisionTreeClassifier was fitted with feature names\n",
      "  warnings.warn(\n",
      "/opt/conda/lib/python3.10/site-packages/sklearn/base.py:439: UserWarning: X does not have valid feature names, but DecisionTreeClassifier was fitted with feature names\n",
      "  warnings.warn(\n",
      "/opt/conda/lib/python3.10/site-packages/sklearn/base.py:439: UserWarning: X does not have valid feature names, but DecisionTreeClassifier was fitted with feature names\n",
      "  warnings.warn(\n"
     ]
    }
   ],
   "source": [
    "print(\"Predictor 1 \",dt_bag1.predict(np.array([3.4,5.4]).reshape(1,2)))\n",
    "print(\"Predictor 2 \",dt_bag2.predict(np.array([3.4,5.4]).reshape(1,2)))\n",
    "print(\"Predictor 3 \",dt_bag3.predict(np.array([3.4,5.4]).reshape(1,2)))"
   ]
  },
  {
   "cell_type": "markdown",
   "id": "1da751d9",
   "metadata": {
    "papermill": {
     "duration": 0.011876,
     "end_time": "2024-12-14T05:32:37.632304",
     "exception": false,
     "start_time": "2024-12-14T05:32:37.620428",
     "status": "completed"
    },
    "tags": []
   },
   "source": [
    "# Pasting\n",
    "Row Sampling without replacement"
   ]
  },
  {
   "cell_type": "code",
   "execution_count": 28,
   "id": "5ed0ac00",
   "metadata": {
    "execution": {
     "iopub.execute_input": "2024-12-14T05:32:37.658161Z",
     "iopub.status.busy": "2024-12-14T05:32:37.657770Z",
     "iopub.status.idle": "2024-12-14T05:32:37.670103Z",
     "shell.execute_reply": "2024-12-14T05:32:37.668850Z"
    },
    "papermill": {
     "duration": 0.028231,
     "end_time": "2024-12-14T05:32:37.672682",
     "exception": false,
     "start_time": "2024-12-14T05:32:37.644451",
     "status": "completed"
    },
    "tags": []
   },
   "outputs": [
    {
     "data": {
      "text/html": [
       "<div>\n",
       "<style scoped>\n",
       "    .dataframe tbody tr th:only-of-type {\n",
       "        vertical-align: middle;\n",
       "    }\n",
       "\n",
       "    .dataframe tbody tr th {\n",
       "        vertical-align: top;\n",
       "    }\n",
       "\n",
       "    .dataframe thead th {\n",
       "        text-align: right;\n",
       "    }\n",
       "</style>\n",
       "<table border=\"1\" class=\"dataframe\">\n",
       "  <thead>\n",
       "    <tr style=\"text-align: right;\">\n",
       "      <th></th>\n",
       "      <th>SepalWidthCm</th>\n",
       "      <th>PetalLengthCm</th>\n",
       "      <th>Species</th>\n",
       "    </tr>\n",
       "  </thead>\n",
       "  <tbody>\n",
       "    <tr>\n",
       "      <th>124</th>\n",
       "      <td>3.3</td>\n",
       "      <td>5.7</td>\n",
       "      <td>2</td>\n",
       "    </tr>\n",
       "    <tr>\n",
       "      <th>89</th>\n",
       "      <td>2.5</td>\n",
       "      <td>4.0</td>\n",
       "      <td>1</td>\n",
       "    </tr>\n",
       "    <tr>\n",
       "      <th>72</th>\n",
       "      <td>2.5</td>\n",
       "      <td>4.9</td>\n",
       "      <td>1</td>\n",
       "    </tr>\n",
       "    <tr>\n",
       "      <th>51</th>\n",
       "      <td>3.2</td>\n",
       "      <td>4.5</td>\n",
       "      <td>1</td>\n",
       "    </tr>\n",
       "    <tr>\n",
       "      <th>97</th>\n",
       "      <td>2.9</td>\n",
       "      <td>4.3</td>\n",
       "      <td>1</td>\n",
       "    </tr>\n",
       "    <tr>\n",
       "      <th>113</th>\n",
       "      <td>2.5</td>\n",
       "      <td>5.0</td>\n",
       "      <td>2</td>\n",
       "    </tr>\n",
       "    <tr>\n",
       "      <th>138</th>\n",
       "      <td>3.0</td>\n",
       "      <td>4.8</td>\n",
       "      <td>2</td>\n",
       "    </tr>\n",
       "    <tr>\n",
       "      <th>67</th>\n",
       "      <td>2.7</td>\n",
       "      <td>4.1</td>\n",
       "      <td>1</td>\n",
       "    </tr>\n",
       "  </tbody>\n",
       "</table>\n",
       "</div>"
      ],
      "text/plain": [
       "     SepalWidthCm  PetalLengthCm  Species\n",
       "124           3.3            5.7        2\n",
       "89            2.5            4.0        1\n",
       "72            2.5            4.9        1\n",
       "51            3.2            4.5        1\n",
       "97            2.9            4.3        1\n",
       "113           2.5            5.0        2\n",
       "138           3.0            4.8        2\n",
       "67            2.7            4.1        1"
      ]
     },
     "execution_count": 28,
     "metadata": {},
     "output_type": "execute_result"
    }
   ],
   "source": [
    "df_train.sample(8)"
   ]
  },
  {
   "cell_type": "markdown",
   "id": "eded6f3d",
   "metadata": {
    "papermill": {
     "duration": 0.011882,
     "end_time": "2024-12-14T05:32:37.696853",
     "exception": false,
     "start_time": "2024-12-14T05:32:37.684971",
     "status": "completed"
    },
    "tags": []
   },
   "source": [
    "# Random Subspaces"
   ]
  },
  {
   "cell_type": "code",
   "execution_count": 29,
   "id": "643adc7e",
   "metadata": {
    "execution": {
     "iopub.execute_input": "2024-12-14T05:32:37.723078Z",
     "iopub.status.busy": "2024-12-14T05:32:37.722720Z",
     "iopub.status.idle": "2024-12-14T05:32:37.733273Z",
     "shell.execute_reply": "2024-12-14T05:32:37.732263Z"
    },
    "papermill": {
     "duration": 0.026407,
     "end_time": "2024-12-14T05:32:37.735550",
     "exception": false,
     "start_time": "2024-12-14T05:32:37.709143",
     "status": "completed"
    },
    "tags": []
   },
   "outputs": [],
   "source": [
    "df1 = pd.read_csv(\"/kaggle/input/iris/Iris.csv\")\n",
    "df1 = df1.sample(10)"
   ]
  },
  {
   "cell_type": "code",
   "execution_count": 30,
   "id": "dcd2f4be",
   "metadata": {
    "execution": {
     "iopub.execute_input": "2024-12-14T05:32:37.761406Z",
     "iopub.status.busy": "2024-12-14T05:32:37.761011Z",
     "iopub.status.idle": "2024-12-14T05:32:37.775892Z",
     "shell.execute_reply": "2024-12-14T05:32:37.774863Z"
    },
    "papermill": {
     "duration": 0.030012,
     "end_time": "2024-12-14T05:32:37.777837",
     "exception": false,
     "start_time": "2024-12-14T05:32:37.747825",
     "status": "completed"
    },
    "tags": []
   },
   "outputs": [
    {
     "data": {
      "text/html": [
       "<div>\n",
       "<style scoped>\n",
       "    .dataframe tbody tr th:only-of-type {\n",
       "        vertical-align: middle;\n",
       "    }\n",
       "\n",
       "    .dataframe tbody tr th {\n",
       "        vertical-align: top;\n",
       "    }\n",
       "\n",
       "    .dataframe thead th {\n",
       "        text-align: right;\n",
       "    }\n",
       "</style>\n",
       "<table border=\"1\" class=\"dataframe\">\n",
       "  <thead>\n",
       "    <tr style=\"text-align: right;\">\n",
       "      <th></th>\n",
       "      <th>Id</th>\n",
       "      <th>SepalLengthCm</th>\n",
       "      <th>SepalWidthCm</th>\n",
       "      <th>PetalLengthCm</th>\n",
       "      <th>PetalWidthCm</th>\n",
       "      <th>Species</th>\n",
       "    </tr>\n",
       "  </thead>\n",
       "  <tbody>\n",
       "    <tr>\n",
       "      <th>115</th>\n",
       "      <td>116</td>\n",
       "      <td>6.4</td>\n",
       "      <td>3.2</td>\n",
       "      <td>5.3</td>\n",
       "      <td>2.3</td>\n",
       "      <td>Iris-virginica</td>\n",
       "    </tr>\n",
       "    <tr>\n",
       "      <th>80</th>\n",
       "      <td>81</td>\n",
       "      <td>5.5</td>\n",
       "      <td>2.4</td>\n",
       "      <td>3.8</td>\n",
       "      <td>1.1</td>\n",
       "      <td>Iris-versicolor</td>\n",
       "    </tr>\n",
       "    <tr>\n",
       "      <th>9</th>\n",
       "      <td>10</td>\n",
       "      <td>4.9</td>\n",
       "      <td>3.1</td>\n",
       "      <td>1.5</td>\n",
       "      <td>0.1</td>\n",
       "      <td>Iris-setosa</td>\n",
       "    </tr>\n",
       "    <tr>\n",
       "      <th>91</th>\n",
       "      <td>92</td>\n",
       "      <td>6.1</td>\n",
       "      <td>3.0</td>\n",
       "      <td>4.6</td>\n",
       "      <td>1.4</td>\n",
       "      <td>Iris-versicolor</td>\n",
       "    </tr>\n",
       "    <tr>\n",
       "      <th>34</th>\n",
       "      <td>35</td>\n",
       "      <td>4.9</td>\n",
       "      <td>3.1</td>\n",
       "      <td>1.5</td>\n",
       "      <td>0.1</td>\n",
       "      <td>Iris-setosa</td>\n",
       "    </tr>\n",
       "    <tr>\n",
       "      <th>128</th>\n",
       "      <td>129</td>\n",
       "      <td>6.4</td>\n",
       "      <td>2.8</td>\n",
       "      <td>5.6</td>\n",
       "      <td>2.1</td>\n",
       "      <td>Iris-virginica</td>\n",
       "    </tr>\n",
       "    <tr>\n",
       "      <th>131</th>\n",
       "      <td>132</td>\n",
       "      <td>7.9</td>\n",
       "      <td>3.8</td>\n",
       "      <td>6.4</td>\n",
       "      <td>2.0</td>\n",
       "      <td>Iris-virginica</td>\n",
       "    </tr>\n",
       "    <tr>\n",
       "      <th>55</th>\n",
       "      <td>56</td>\n",
       "      <td>5.7</td>\n",
       "      <td>2.8</td>\n",
       "      <td>4.5</td>\n",
       "      <td>1.3</td>\n",
       "      <td>Iris-versicolor</td>\n",
       "    </tr>\n",
       "    <tr>\n",
       "      <th>79</th>\n",
       "      <td>80</td>\n",
       "      <td>5.7</td>\n",
       "      <td>2.6</td>\n",
       "      <td>3.5</td>\n",
       "      <td>1.0</td>\n",
       "      <td>Iris-versicolor</td>\n",
       "    </tr>\n",
       "    <tr>\n",
       "      <th>48</th>\n",
       "      <td>49</td>\n",
       "      <td>5.3</td>\n",
       "      <td>3.7</td>\n",
       "      <td>1.5</td>\n",
       "      <td>0.2</td>\n",
       "      <td>Iris-setosa</td>\n",
       "    </tr>\n",
       "  </tbody>\n",
       "</table>\n",
       "</div>"
      ],
      "text/plain": [
       "      Id  SepalLengthCm  SepalWidthCm  PetalLengthCm  PetalWidthCm  \\\n",
       "115  116            6.4           3.2            5.3           2.3   \n",
       "80    81            5.5           2.4            3.8           1.1   \n",
       "9     10            4.9           3.1            1.5           0.1   \n",
       "91    92            6.1           3.0            4.6           1.4   \n",
       "34    35            4.9           3.1            1.5           0.1   \n",
       "128  129            6.4           2.8            5.6           2.1   \n",
       "131  132            7.9           3.8            6.4           2.0   \n",
       "55    56            5.7           2.8            4.5           1.3   \n",
       "79    80            5.7           2.6            3.5           1.0   \n",
       "48    49            5.3           3.7            1.5           0.2   \n",
       "\n",
       "             Species  \n",
       "115   Iris-virginica  \n",
       "80   Iris-versicolor  \n",
       "9        Iris-setosa  \n",
       "91   Iris-versicolor  \n",
       "34       Iris-setosa  \n",
       "128   Iris-virginica  \n",
       "131   Iris-virginica  \n",
       "55   Iris-versicolor  \n",
       "79   Iris-versicolor  \n",
       "48       Iris-setosa  "
      ]
     },
     "execution_count": 30,
     "metadata": {},
     "output_type": "execute_result"
    }
   ],
   "source": [
    "df1"
   ]
  },
  {
   "cell_type": "code",
   "execution_count": 31,
   "id": "a8f7a47e",
   "metadata": {
    "execution": {
     "iopub.execute_input": "2024-12-14T05:32:37.804039Z",
     "iopub.status.busy": "2024-12-14T05:32:37.803291Z",
     "iopub.status.idle": "2024-12-14T05:32:37.814960Z",
     "shell.execute_reply": "2024-12-14T05:32:37.813809Z"
    },
    "papermill": {
     "duration": 0.027196,
     "end_time": "2024-12-14T05:32:37.817123",
     "exception": false,
     "start_time": "2024-12-14T05:32:37.789927",
     "status": "completed"
    },
    "tags": []
   },
   "outputs": [
    {
     "data": {
      "text/html": [
       "<div>\n",
       "<style scoped>\n",
       "    .dataframe tbody tr th:only-of-type {\n",
       "        vertical-align: middle;\n",
       "    }\n",
       "\n",
       "    .dataframe tbody tr th {\n",
       "        vertical-align: top;\n",
       "    }\n",
       "\n",
       "    .dataframe thead th {\n",
       "        text-align: right;\n",
       "    }\n",
       "</style>\n",
       "<table border=\"1\" class=\"dataframe\">\n",
       "  <thead>\n",
       "    <tr style=\"text-align: right;\">\n",
       "      <th></th>\n",
       "      <th>PetalLengthCm</th>\n",
       "      <th>SepalWidthCm</th>\n",
       "    </tr>\n",
       "  </thead>\n",
       "  <tbody>\n",
       "    <tr>\n",
       "      <th>115</th>\n",
       "      <td>5.3</td>\n",
       "      <td>3.2</td>\n",
       "    </tr>\n",
       "    <tr>\n",
       "      <th>80</th>\n",
       "      <td>3.8</td>\n",
       "      <td>2.4</td>\n",
       "    </tr>\n",
       "    <tr>\n",
       "      <th>9</th>\n",
       "      <td>1.5</td>\n",
       "      <td>3.1</td>\n",
       "    </tr>\n",
       "    <tr>\n",
       "      <th>91</th>\n",
       "      <td>4.6</td>\n",
       "      <td>3.0</td>\n",
       "    </tr>\n",
       "    <tr>\n",
       "      <th>34</th>\n",
       "      <td>1.5</td>\n",
       "      <td>3.1</td>\n",
       "    </tr>\n",
       "    <tr>\n",
       "      <th>128</th>\n",
       "      <td>5.6</td>\n",
       "      <td>2.8</td>\n",
       "    </tr>\n",
       "    <tr>\n",
       "      <th>131</th>\n",
       "      <td>6.4</td>\n",
       "      <td>3.8</td>\n",
       "    </tr>\n",
       "    <tr>\n",
       "      <th>55</th>\n",
       "      <td>4.5</td>\n",
       "      <td>2.8</td>\n",
       "    </tr>\n",
       "    <tr>\n",
       "      <th>79</th>\n",
       "      <td>3.5</td>\n",
       "      <td>2.6</td>\n",
       "    </tr>\n",
       "    <tr>\n",
       "      <th>48</th>\n",
       "      <td>1.5</td>\n",
       "      <td>3.7</td>\n",
       "    </tr>\n",
       "  </tbody>\n",
       "</table>\n",
       "</div>"
      ],
      "text/plain": [
       "     PetalLengthCm  SepalWidthCm\n",
       "115            5.3           3.2\n",
       "80             3.8           2.4\n",
       "9              1.5           3.1\n",
       "91             4.6           3.0\n",
       "34             1.5           3.1\n",
       "128            5.6           2.8\n",
       "131            6.4           3.8\n",
       "55             4.5           2.8\n",
       "79             3.5           2.6\n",
       "48             1.5           3.7"
      ]
     },
     "execution_count": 31,
     "metadata": {},
     "output_type": "execute_result"
    }
   ],
   "source": [
    "df1.sample(2,replace=True,axis=1)"
   ]
  },
  {
   "cell_type": "markdown",
   "id": "fc98c331",
   "metadata": {
    "papermill": {
     "duration": 0.012218,
     "end_time": "2024-12-14T05:32:37.842194",
     "exception": false,
     "start_time": "2024-12-14T05:32:37.829976",
     "status": "completed"
    },
    "tags": []
   },
   "source": [
    "# Random Patches"
   ]
  },
  {
   "cell_type": "code",
   "execution_count": 32,
   "id": "5d2e4b8f",
   "metadata": {
    "execution": {
     "iopub.execute_input": "2024-12-14T05:32:37.869154Z",
     "iopub.status.busy": "2024-12-14T05:32:37.868706Z",
     "iopub.status.idle": "2024-12-14T05:32:37.884221Z",
     "shell.execute_reply": "2024-12-14T05:32:37.882531Z"
    },
    "papermill": {
     "duration": 0.03234,
     "end_time": "2024-12-14T05:32:37.887424",
     "exception": false,
     "start_time": "2024-12-14T05:32:37.855084",
     "status": "completed"
    },
    "tags": []
   },
   "outputs": [
    {
     "data": {
      "text/html": [
       "<div>\n",
       "<style scoped>\n",
       "    .dataframe tbody tr th:only-of-type {\n",
       "        vertical-align: middle;\n",
       "    }\n",
       "\n",
       "    .dataframe tbody tr th {\n",
       "        vertical-align: top;\n",
       "    }\n",
       "\n",
       "    .dataframe thead th {\n",
       "        text-align: right;\n",
       "    }\n",
       "</style>\n",
       "<table border=\"1\" class=\"dataframe\">\n",
       "  <thead>\n",
       "    <tr style=\"text-align: right;\">\n",
       "      <th></th>\n",
       "      <th>Id</th>\n",
       "      <th>SepalLengthCm</th>\n",
       "      <th>SepalWidthCm</th>\n",
       "      <th>PetalLengthCm</th>\n",
       "      <th>PetalWidthCm</th>\n",
       "      <th>Species</th>\n",
       "    </tr>\n",
       "  </thead>\n",
       "  <tbody>\n",
       "    <tr>\n",
       "      <th>115</th>\n",
       "      <td>116</td>\n",
       "      <td>6.4</td>\n",
       "      <td>3.2</td>\n",
       "      <td>5.3</td>\n",
       "      <td>2.3</td>\n",
       "      <td>Iris-virginica</td>\n",
       "    </tr>\n",
       "    <tr>\n",
       "      <th>80</th>\n",
       "      <td>81</td>\n",
       "      <td>5.5</td>\n",
       "      <td>2.4</td>\n",
       "      <td>3.8</td>\n",
       "      <td>1.1</td>\n",
       "      <td>Iris-versicolor</td>\n",
       "    </tr>\n",
       "    <tr>\n",
       "      <th>9</th>\n",
       "      <td>10</td>\n",
       "      <td>4.9</td>\n",
       "      <td>3.1</td>\n",
       "      <td>1.5</td>\n",
       "      <td>0.1</td>\n",
       "      <td>Iris-setosa</td>\n",
       "    </tr>\n",
       "    <tr>\n",
       "      <th>91</th>\n",
       "      <td>92</td>\n",
       "      <td>6.1</td>\n",
       "      <td>3.0</td>\n",
       "      <td>4.6</td>\n",
       "      <td>1.4</td>\n",
       "      <td>Iris-versicolor</td>\n",
       "    </tr>\n",
       "    <tr>\n",
       "      <th>34</th>\n",
       "      <td>35</td>\n",
       "      <td>4.9</td>\n",
       "      <td>3.1</td>\n",
       "      <td>1.5</td>\n",
       "      <td>0.1</td>\n",
       "      <td>Iris-setosa</td>\n",
       "    </tr>\n",
       "    <tr>\n",
       "      <th>128</th>\n",
       "      <td>129</td>\n",
       "      <td>6.4</td>\n",
       "      <td>2.8</td>\n",
       "      <td>5.6</td>\n",
       "      <td>2.1</td>\n",
       "      <td>Iris-virginica</td>\n",
       "    </tr>\n",
       "    <tr>\n",
       "      <th>131</th>\n",
       "      <td>132</td>\n",
       "      <td>7.9</td>\n",
       "      <td>3.8</td>\n",
       "      <td>6.4</td>\n",
       "      <td>2.0</td>\n",
       "      <td>Iris-virginica</td>\n",
       "    </tr>\n",
       "    <tr>\n",
       "      <th>55</th>\n",
       "      <td>56</td>\n",
       "      <td>5.7</td>\n",
       "      <td>2.8</td>\n",
       "      <td>4.5</td>\n",
       "      <td>1.3</td>\n",
       "      <td>Iris-versicolor</td>\n",
       "    </tr>\n",
       "    <tr>\n",
       "      <th>79</th>\n",
       "      <td>80</td>\n",
       "      <td>5.7</td>\n",
       "      <td>2.6</td>\n",
       "      <td>3.5</td>\n",
       "      <td>1.0</td>\n",
       "      <td>Iris-versicolor</td>\n",
       "    </tr>\n",
       "    <tr>\n",
       "      <th>48</th>\n",
       "      <td>49</td>\n",
       "      <td>5.3</td>\n",
       "      <td>3.7</td>\n",
       "      <td>1.5</td>\n",
       "      <td>0.2</td>\n",
       "      <td>Iris-setosa</td>\n",
       "    </tr>\n",
       "  </tbody>\n",
       "</table>\n",
       "</div>"
      ],
      "text/plain": [
       "      Id  SepalLengthCm  SepalWidthCm  PetalLengthCm  PetalWidthCm  \\\n",
       "115  116            6.4           3.2            5.3           2.3   \n",
       "80    81            5.5           2.4            3.8           1.1   \n",
       "9     10            4.9           3.1            1.5           0.1   \n",
       "91    92            6.1           3.0            4.6           1.4   \n",
       "34    35            4.9           3.1            1.5           0.1   \n",
       "128  129            6.4           2.8            5.6           2.1   \n",
       "131  132            7.9           3.8            6.4           2.0   \n",
       "55    56            5.7           2.8            4.5           1.3   \n",
       "79    80            5.7           2.6            3.5           1.0   \n",
       "48    49            5.3           3.7            1.5           0.2   \n",
       "\n",
       "             Species  \n",
       "115   Iris-virginica  \n",
       "80   Iris-versicolor  \n",
       "9        Iris-setosa  \n",
       "91   Iris-versicolor  \n",
       "34       Iris-setosa  \n",
       "128   Iris-virginica  \n",
       "131   Iris-virginica  \n",
       "55   Iris-versicolor  \n",
       "79   Iris-versicolor  \n",
       "48       Iris-setosa  "
      ]
     },
     "execution_count": 32,
     "metadata": {},
     "output_type": "execute_result"
    }
   ],
   "source": [
    "df1"
   ]
  },
  {
   "cell_type": "code",
   "execution_count": 33,
   "id": "ce6afd6b",
   "metadata": {
    "execution": {
     "iopub.execute_input": "2024-12-14T05:32:37.928778Z",
     "iopub.status.busy": "2024-12-14T05:32:37.927867Z",
     "iopub.status.idle": "2024-12-14T05:32:37.941165Z",
     "shell.execute_reply": "2024-12-14T05:32:37.940064Z"
    },
    "papermill": {
     "duration": 0.034849,
     "end_time": "2024-12-14T05:32:37.943472",
     "exception": false,
     "start_time": "2024-12-14T05:32:37.908623",
     "status": "completed"
    },
    "tags": []
   },
   "outputs": [
    {
     "data": {
      "text/html": [
       "<div>\n",
       "<style scoped>\n",
       "    .dataframe tbody tr th:only-of-type {\n",
       "        vertical-align: middle;\n",
       "    }\n",
       "\n",
       "    .dataframe tbody tr th {\n",
       "        vertical-align: top;\n",
       "    }\n",
       "\n",
       "    .dataframe thead th {\n",
       "        text-align: right;\n",
       "    }\n",
       "</style>\n",
       "<table border=\"1\" class=\"dataframe\">\n",
       "  <thead>\n",
       "    <tr style=\"text-align: right;\">\n",
       "      <th></th>\n",
       "      <th>SepalWidthCm</th>\n",
       "      <th>Id</th>\n",
       "    </tr>\n",
       "  </thead>\n",
       "  <tbody>\n",
       "    <tr>\n",
       "      <th>91</th>\n",
       "      <td>3.0</td>\n",
       "      <td>92</td>\n",
       "    </tr>\n",
       "    <tr>\n",
       "      <th>115</th>\n",
       "      <td>3.2</td>\n",
       "      <td>116</td>\n",
       "    </tr>\n",
       "    <tr>\n",
       "      <th>9</th>\n",
       "      <td>3.1</td>\n",
       "      <td>10</td>\n",
       "    </tr>\n",
       "    <tr>\n",
       "      <th>115</th>\n",
       "      <td>3.2</td>\n",
       "      <td>116</td>\n",
       "    </tr>\n",
       "    <tr>\n",
       "      <th>48</th>\n",
       "      <td>3.7</td>\n",
       "      <td>49</td>\n",
       "    </tr>\n",
       "    <tr>\n",
       "      <th>91</th>\n",
       "      <td>3.0</td>\n",
       "      <td>92</td>\n",
       "    </tr>\n",
       "    <tr>\n",
       "      <th>128</th>\n",
       "      <td>2.8</td>\n",
       "      <td>129</td>\n",
       "    </tr>\n",
       "    <tr>\n",
       "      <th>128</th>\n",
       "      <td>2.8</td>\n",
       "      <td>129</td>\n",
       "    </tr>\n",
       "  </tbody>\n",
       "</table>\n",
       "</div>"
      ],
      "text/plain": [
       "     SepalWidthCm   Id\n",
       "91            3.0   92\n",
       "115           3.2  116\n",
       "9             3.1   10\n",
       "115           3.2  116\n",
       "48            3.7   49\n",
       "91            3.0   92\n",
       "128           2.8  129\n",
       "128           2.8  129"
      ]
     },
     "execution_count": 33,
     "metadata": {},
     "output_type": "execute_result"
    }
   ],
   "source": [
    "df1.sample(8,replace=True).sample(2,replace=True,axis=1)"
   ]
  },
  {
   "cell_type": "code",
   "execution_count": null,
   "id": "9b083371",
   "metadata": {
    "papermill": {
     "duration": 0.012905,
     "end_time": "2024-12-14T05:32:37.975694",
     "exception": false,
     "start_time": "2024-12-14T05:32:37.962789",
     "status": "completed"
    },
    "tags": []
   },
   "outputs": [],
   "source": []
  }
 ],
 "metadata": {
  "kaggle": {
   "accelerator": "none",
   "dataSources": [
    {
     "datasetId": 19,
     "sourceId": 420,
     "sourceType": "datasetVersion"
    }
   ],
   "dockerImageVersionId": 30804,
   "isGpuEnabled": false,
   "isInternetEnabled": true,
   "language": "python",
   "sourceType": "notebook"
  },
  "kernelspec": {
   "display_name": "Python 3",
   "language": "python",
   "name": "python3"
  },
  "language_info": {
   "codemirror_mode": {
    "name": "ipython",
    "version": 3
   },
   "file_extension": ".py",
   "mimetype": "text/x-python",
   "name": "python",
   "nbconvert_exporter": "python",
   "pygments_lexer": "ipython3",
   "version": "3.10.14"
  },
  "papermill": {
   "default_parameters": {},
   "duration": 9.974838,
   "end_time": "2024-12-14T05:32:38.710543",
   "environment_variables": {},
   "exception": null,
   "input_path": "__notebook__.ipynb",
   "output_path": "__notebook__.ipynb",
   "parameters": {},
   "start_time": "2024-12-14T05:32:28.735705",
   "version": "2.6.0"
  }
 },
 "nbformat": 4,
 "nbformat_minor": 5
}
